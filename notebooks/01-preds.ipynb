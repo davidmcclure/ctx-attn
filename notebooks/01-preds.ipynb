{
 "cells": [
  {
   "cell_type": "code",
   "execution_count": 4,
   "metadata": {},
   "outputs": [],
   "source": [
    "import pandas as pd\n",
    "\n",
    "from scipy.spatial import distance"
   ]
  },
  {
   "cell_type": "code",
   "execution_count": 7,
   "metadata": {},
   "outputs": [],
   "source": [
    "import matplotlib as mpl\n",
    "import matplotlib.pyplot as plt\n",
    "import seaborn as sns\n",
    "\n",
    "mpl.style.use('seaborn-muted')\n",
    "sns.set(style=\"whitegrid\")"
   ]
  },
  {
   "cell_type": "code",
   "execution_count": 2,
   "metadata": {},
   "outputs": [],
   "source": [
    "df = pd.read_json('../data/preds.json', lines=True)"
   ]
  },
  {
   "cell_type": "code",
   "execution_count": 10,
   "metadata": {},
   "outputs": [],
   "source": [
    "df['wc'] = df.tokens.apply(len)"
   ]
  },
  {
   "cell_type": "code",
   "execution_count": 14,
   "metadata": {},
   "outputs": [
    {
     "data": {
      "text/plain": [
       "<matplotlib.axes._subplots.AxesSubplot at 0x13ad1a390>"
      ]
     },
     "execution_count": 14,
     "metadata": {},
     "output_type": "execute_result"
    },
    {
     "data": {
      "image/png": "[encoded data removed]",
      "text/plain": [
       "<Figure size 432x288 with 1 Axes>"
      ]
     },
     "metadata": {},
     "output_type": "display_data"
    }
   ],
   "source": [
    "sns.countplot(df.wc[df.wc<20])"
   ]
  },
  {
   "cell_type": "code",
   "execution_count": 23,
   "metadata": {},
   "outputs": [],
   "source": [
    "pdf = df[df.wc==10].copy()\n",
    "pdf['d'] = pdf.apply(lambda r: distance.cosine(r.attn_dist, r.attn_ctx_dist), 1)"
   ]
  },
  {
   "cell_type": "code",
   "execution_count": 24,
   "metadata": {},
   "outputs": [
    {
     "data": {
      "text/plain": [
       "<matplotlib.axes._subplots.AxesSubplot at 0x13b1ecda0>"
      ]
     },
     "execution_count": 24,
     "metadata": {},
     "output_type": "execute_result"
    },
    {
     "data": {
      "image/png": "[encoded data removed]",
      "text/plain": [
       "<Figure size 432x288 with 1 Axes>"
      ]
     },
     "metadata": {},
     "output_type": "display_data"
    }
   ],
   "source": [
    "sns.distplot(pdf.d)"
   ]
  },
  {
   "cell_type": "code",
   "execution_count": 32,
   "metadata": {},
   "outputs": [
    {
     "name": "stdout",
     "output_type": "stream",
     "text": [
      "nytimes.com\n",
      "['seven', 'leading', 'architects', 'defend', 'the', 'world', 's', 'most', 'hated', 'buildings']\n",
      "{'breitbart.com': 0.6174532771, 'nytimes.com': 0.3825466037}\n",
      "[('seven', 0.0001101048, 0.0358201265), ('leading', 0.0037972205, 0.023459635700000002), ('architects', 0.0219868589, 0.0066099861000000005), ('defend', 0.7293157578, 0.0207531583), ('the', 0.2199683785, 0.015778731600000002), ('world', 0.007474255700000001, 0.0050351894), ('s', 0.0015359911, 0.002307036), ('most', 0.005331018900000001, 0.004428459300000001), ('hated', 0.0099949129, 0.0329349414), ('buildings', 0.0004853913, 0.8528727293)]\n",
      "nytimes.com\n",
      "['minneapolis', 'police', 'video', 'shows', 'moments', 'before', 'thurman', 'blevins', 'was', 'shot']\n",
      "{'breitbart.com': 0.6417707801, 'nytimes.com': 0.3582291603}\n",
      "[('minneapolis', 0.0003835873, 0.0008514801), ('police', 0.0346859284, 0.0015226364), ('video', 0.7109795809, 0.0009852522000000001), ('shows', 0.0719966888, 0.0570172332), ('moments', 0.0062420364, 0.1045158207), ('before', 0.0073286528, 0.5478442311), ('thurman', 0.0016999821, 0.0709336177), ('blevins', 0.022693518500000003, 0.1449478716), ('was', 0.0198936742, 0.026904108000000003), ('shot', 0.1240962669, 0.044477794300000005)]\n",
      "breitbart.com\n",
      "['nyt', 'wapo', 'just', 'vanity', 'press', 'propped', 'up', 'by', 'billionaire', 'owners']\n",
      "{'breitbart.com': 0.9995023012, 'nytimes.com': 0.0004977114}\n",
      "[('nyt', 0.4489679039, 0.00013672), ('wapo', 0.4595326185, 0.0002020671), ('just', 0.0005123961000000001, 0.0011644572), ('vanity', 0.0298896991, 0.0012963503), ('press', 0.0545571446, 0.0006731650000000001), ('propped', 0.0039775851, 0.0026218358), ('up', 0.0004486062, 0.0029221664), ('by', 6.96e-06, 0.0264669415), ('billionaire', 0.0018457804000000001, 0.29032275080000003), ('owners', 0.00026104700000000004, 0.6741936207)]\n",
      "nytimes.com\n",
      "['pope', 'francis', 'accuser', 'turns', 'up', 'the', 'pressure', 'with', 'more', 'accusations']\n",
      "{'breitbart.com': 0.7761882544, 'nytimes.com': 0.2238117605}\n",
      "[('pope', 0.253015101, 0.0036666743), ('francis', 0.0064335987, 0.0018263332000000001), ('accuser', 0.6325914264, 0.0029874595), ('turns', 0.0074459505, 0.0119263045), ('up', 0.0012512499, 0.0052111237000000005), ('the', 0.0534623638, 0.0341326036), ('pressure', 0.010936444600000001, 0.6563802361000001), ('with', 0.0004946756000000001, 0.0230570696), ('more', 0.0199030675, 0.17894119020000002), ('accusations', 0.0144660268, 0.0818710178)]\n",
      "nytimes.com\n",
      "['democrats', 'overstate', 'kavanaugh', 's', 'writings', 'on', 'the', 'affordable', 'care', 'act']\n",
      "{'breitbart.com': 0.0381814539, 'nytimes.com': 0.9618185163}\n",
      "[('democrats', 0.362580508, 0.0006731364), ('overstate', 0.0962041616, 0.0051212739), ('kavanaugh', 0.2183425874, 0.0059629017), ('s', 0.00035037640000000004, 0.0046721785000000005), ('writings', 0.0218976606, 0.029996924100000003), ('on', 0.0085063884, 0.0050241887), ('the', 0.0501772091, 0.0128888749), ('affordable', 0.0007183850000000001, 0.9281273484), ('care', 0.0787125453, 0.0058799721), ('act', 0.162510246, 0.0016532321)]\n",
      "nytimes.com\n",
      "['how', 'billy', 'idol', 's', 'rebel', 'yell', 'fueled', 'a', 'debut', 'thriller']\n",
      "{'breitbart.com': 3.402e-07, 'nytimes.com': 0.9999995232000001}\n",
      "[('how', 0.1609599888, 0.0064955638000000005), ('billy', 0.0017216133, 0.0003423754), ('idol', 0.0062883133, 0.0003944098), ('s', 0.0028807109, 0.00011114020000000001), ('rebel', 0.3442040682, 0.00017143100000000002), ('yell', 0.0612088293, 0.0001826219), ('fueled', 0.017079150300000002, 0.0244919416), ('a', 0.4052109122, 0.0014565393), ('debut', 8.91961e-05, 0.0539873317), ('thriller', 0.000357158, 0.9123666286000001)]\n",
      "nytimes.com\n",
      "['david', 'lat', 's', 'supreme', 'ambitions', 'is', 'a', 'thriller', 'for', 'lawyers']\n",
      "{'breitbart.com': 1.98803e-05, 'nytimes.com': 0.9999799728000001}\n",
      "[('david', 0.0135112302, 0.0006501925), ('lat', 0.0155412536, 0.0013740850000000002), ('s', 0.0007287252, 0.00107778), ('supreme', 0.3149193823, 0.0005751184), ('ambitions', 0.2722831964, 0.0035532196), ('is', 0.2544531226, 0.0042340402), ('a', 0.102504991, 0.0015498947), ('thriller', 9.23838e-05, 0.1149550602), ('for', 0.0002156091, 0.3811533749), ('lawyers', 0.025750149, 0.4908772409)]\n",
      "nytimes.com\n",
      "['professor', 'who', 'wrote', 'of', 'korean', 'comfort', 'women', 'wins', 'defamation', 'case']\n",
      "{'breitbart.com': 0.0006270896, 'nytimes.com': 0.9993728995000001}\n",
      "[('professor', 0.1027806327, 0.0001806889), ('who', 0.0020670148, 0.0023439617), ('wrote', 0.0058715716, 0.015496882600000001), ('of', 0.000288048, 0.003899571), ('korean', 0.0008271991000000001, 0.0330386907), ('comfort', 0.0093485583, 0.8284558654), ('women', 0.0020586441, 0.1039122865), ('wins', 2.1349000000000002e-05, 0.0042229053), ('defamation', 0.8672508001, 0.0034869567), ('case', 0.009486186300000001, 0.0049620839)]\n",
      "nytimes.com\n",
      "['barbara', 'carroll', 'pioneering', 'jazz', 'pianist', 'and', 'singer', 'dies', 'at', '#']\n",
      "{'breitbart.com': 8.5e-09, 'nytimes.com': 1.0}\n",
      "[('barbara', 0.0028669923, 0.0010088342), ('carroll', 0.0085370149, 0.0077733439), ('pioneering', 0.0063437689, 0.7534130216), ('jazz', 0.00021690900000000002, 0.1155534461), ('pianist', 7.30746e-05, 0.119000569), ('and', 0.19405078890000002, 0.0004219262), ('singer', 0.0007094148000000001, 0.0001855255), ('dies', 0.7847940326, 0.000252578), ('at', 0.0024067601, 0.0014897551), ('#', 1.1971e-06, 0.0009010072000000001)]\n",
      "nytimes.com\n",
      "['marcelo', 'gomes', 'leaves', 'american', 'ballet', 'theater', 'after', 'sexual', 'misconduct', 'allegation']\n",
      "{'breitbart.com': 0.0004983597, 'nytimes.com': 0.999501586}\n",
      "[('marcelo', 0.0265588388, 0.0050366833), ('gomes', 0.0579537153, 0.0106631555), ('leaves', 0.0080729546, 0.0176445805), ('american', 0.2664155662, 0.0017677817), ('ballet', 5.35687e-05, 0.1082330048), ('theater', 0.0004706738, 0.5496474504000001), ('after', 0.0006382488000000001, 0.2857047319), ('sexual', 0.0207911469, 0.0179766957), ('misconduct', 0.1184118688, 0.00162983), ('allegation', 0.5006334186, 0.0016960769)]\n"
     ]
    }
   ],
   "source": [
    "for r in pdf[pdf.d > 0.95].head(10).itertuples():\n",
    "    print(r.label)\n",
    "    print(r.tokens)\n",
    "    print(r.preds)\n",
    "    print(list(zip(r.tokens, r.attn_dist, r.attn_ctx_dist)))"
   ]
  },
  {
   "cell_type": "code",
   "execution_count": null,
   "metadata": {},
   "outputs": [],
   "source": []
  }
 ],
 "metadata": {
  "kernelspec": {
   "display_name": "Python 3",
   "language": "python",
   "name": "python3"
  },
  "language_info": {
   "codemirror_mode": {
    "name": "ipython",
    "version": 3
   },
   "file_extension": ".py",
   "mimetype": "text/x-python",
   "name": "python",
   "nbconvert_exporter": "python",
   "pygments_lexer": "ipython3",
   "version": "3.7.2"
  }
 },
 "nbformat": 4,
 "nbformat_minor": 2
}
